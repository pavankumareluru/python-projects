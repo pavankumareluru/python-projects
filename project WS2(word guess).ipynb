{
 "cells": [
  {
   "cell_type": "markdown",
   "metadata": {},
   "source": [
    "# simple word guessing."
   ]
  },
  {
   "cell_type": "markdown",
   "metadata": {},
   "source": [
    "concepts covered:\n",
    "    1. conditionals\n",
    "    2.loops\n",
    "    3. strings\n",
    "    4. function\n",
    "    5. counter and random libraries"
   ]
  },
  {
   "cell_type": "markdown",
   "metadata": {},
   "source": [
    "output is similar to this:"
   ]
  },
  {
   "cell_type": "markdown",
   "metadata": {},
   "source": [
    "pick your category 1.Fruits 2. Chocolates 3.Mobile Company 4. Cars\n",
    "1\n",
    "Guess the word!\n",
    "_ _ _ _ _ _ \n",
    "you have  8  chances left\n",
    "Enter a letter to guess: a\n",
    "_ a _ a _ a you have  7  chances left\n",
    "Enter a letter to guess: b\n",
    "Wrong Guess\n",
    "_ a _ a _ a you have  6  chances left\n",
    "Enter a letter to guess: n\n",
    "Wrong Guess\n",
    "_ a _ a _ a you have  5  chances left\n",
    "Enter a letter to guess: p\n",
    "p a p a _ a you have  4  chances left\n",
    "Enter a letter to guess: y\n",
    "The word is:  papaya\n",
    "Congratulations, You won!"
   ]
  },
  {
   "cell_type": "code",
   "execution_count": 5,
   "metadata": {},
   "outputs": [
    {
     "name": "stdout",
     "output_type": "stream",
     "text": [
      "pick your category 1.Fruits 2. Chocolates 3.Mobile Company 4. Cars\n",
      "1\n",
      "Guess the word!\n",
      "_ _ _ _ _ _ \n",
      "you have  8  chances left\n",
      "Enter a letter to guess: a\n",
      "_ a _ a _ a you have  7  chances left\n",
      "Enter a letter to guess: b\n",
      "Wrong Guess\n",
      "_ a _ a _ a you have  6  chances left\n",
      "Enter a letter to guess: n\n",
      "Wrong Guess\n",
      "_ a _ a _ a you have  5  chances left\n",
      "Enter a letter to guess: p\n",
      "p a p a _ a you have  4  chances left\n",
      "Enter a letter to guess: y\n",
      "The word is:  papaya\n",
      "Congratulations, You won!\n"
     ]
    }
   ],
   "source": [
    "import random\n",
    "from collections import Counter\n",
    "Words1 = '''apple banana mango strawberry orange grape pineapple apricot lemon coconut watermelon\n",
    "cherry papaya berry peach  muskmelon'''\n",
    "Words2= '''bournville kitkat milkybar dairymilk gems perk silk munch barone ferrerorocher snickers eclairs'''\n",
    "Words3= '''nokia oneplus oppo vivo xiaomi htc jio samsung huawei honor blackberry apple lenovo'''\n",
    "Words4='''audi bmw ferrari ford honda mercedes nissan porsche toyota volkswagen bugatti hyundai jaguar lamborghini '''\n",
    "Cat=input(\"pick your category 1.Fruits 2. Chocolates 3.Mobile Company 4. Cars\\n\")\n",
    "if Cat == '1':\n",
    "    someWords = Words1.split(' ')\n",
    "    word = random.choice(someWords)\n",
    "elif Cat=='2':\n",
    "    someWords = Words2.split(' ')\n",
    "    word = random.choice(someWords)\n",
    "elif Cat == '3':\n",
    "    someWords = Words3.split(' ')\n",
    "    word = random.choice(someWords)\n",
    "elif Cat == '4':\n",
    "    someWords = Words4.split(' ')\n",
    "    word = random.choice(someWords)\n",
    "print('Guess the word!')\n",
    "for i in word:\n",
    "        print('_', end = ' ')\n",
    "letterGuessed = ''\n",
    "chances = len(word) + 2\n",
    "correctGuess = 0\n",
    "flag = 0\n",
    "print()\n",
    "while (chances != 0) and flag == 0:\n",
    "        print(\"you have \",chances,\" chances left\")\n",
    "        chances -= 1\n",
    "        guess = str(input('Enter a letter to guess: '))\n",
    "\n",
    "        if not guess.isalpha():\n",
    "            print('Enter only a LETTER')\n",
    "            continue\n",
    "        elif len(guess) > 1:\n",
    "            print('Enter only a SINGLE letter')\n",
    "            continue\n",
    "        elif guess in letterGuessed:\n",
    "            print('You have already guessed that letter')\n",
    "            continue\n",
    "\n",
    "        if guess not in word:\n",
    "            print(\"Wrong Guess\")\n",
    "        if guess in word:\n",
    "            counts = word.count(guess)\n",
    "            for _ in range(counts):\n",
    "                letterGuessed += guess\n",
    "\n",
    "        for char in word:\n",
    "            if char in letterGuessed and (Counter(letterGuessed) != Counter(word)):\n",
    "                print(char, end=' ')\n",
    "                correctGuess += 1\n",
    "\n",
    "            elif (Counter(letterGuessed) == Counter(word)):\n",
    "\n",
    "                print(\"The word is: \",word)\n",
    "                flag = 1\n",
    "                print('Congratulations, You won!')\n",
    "                break\n",
    "                break\n",
    "            else:\n",
    "                print('_', end=' ')\n",
    "\n",
    "\n",
    "if chances <= 0 and (Counter(letterGuessed) != Counter(word)):\n",
    "        print()\n",
    "        print('You lost! Try again..')\n",
    "        print('The word was {}'.format(word))"
   ]
  },
  {
   "cell_type": "code",
   "execution_count": null,
   "metadata": {},
   "outputs": [],
   "source": []
  }
 ],
 "metadata": {
  "kernelspec": {
   "display_name": "Python 3",
   "language": "python",
   "name": "python3"
  },
  "language_info": {
   "codemirror_mode": {
    "name": "ipython",
    "version": 3
   },
   "file_extension": ".py",
   "mimetype": "text/x-python",
   "name": "python",
   "nbconvert_exporter": "python",
   "pygments_lexer": "ipython3",
   "version": "3.7.5"
  }
 },
 "nbformat": 4,
 "nbformat_minor": 4
}
